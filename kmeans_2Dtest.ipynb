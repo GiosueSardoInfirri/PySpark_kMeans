{
 "cells": [
  {
   "cell_type": "markdown",
   "metadata": {},
   "source": [
    "# k means ||"
   ]
  },
  {
   "cell_type": "code",
   "execution_count": 1,
   "metadata": {
    "vscode": {
     "languageId": "python"
    }
   },
   "outputs": [
    {
     "name": "stderr",
     "output_type": "stream",
     "text": [
      "Setting default log level to \"WARN\".\n",
      "To adjust logging level use sc.setLogLevel(newLevel). For SparkR, use setLogLevel(newLevel).\n"
     ]
    },
    {
     "name": "stdout",
     "output_type": "stream",
     "text": [
      "23/09/06 14:26:27 WARN NativeCodeLoader: Unable to load native-hadoop library for your platform... using builtin-java classes where applicable\n"
     ]
    }
   ],
   "source": [
    "# import the python libraries to create/connect to a Spark Session\n",
    "from pyspark.sql import SparkSession\n",
    "\n",
    "# build a SparkSession \n",
    "#   connect to the master node on the port where the master node is listening (7077)\n",
    "#   declare the app name \n",
    "#   configure the executor memory to 512 MB\n",
    "#   either *connect* or *create* a new Spark Context\n",
    "spark = SparkSession.builder \\\n",
    "    .master(\"spark://spark-master:7077\")\\\n",
    "    .appName(\"prova iniziale\")\\\n",
    "    .config(\"spark.executor.memory\", \"512m\")\\\n",
    "    .getOrCreate()"
   ]
  },
  {
   "cell_type": "code",
   "execution_count": 2,
   "metadata": {
    "vscode": {
     "languageId": "python"
    }
   },
   "outputs": [
    {
     "data": {
      "text/html": [
       "\n",
       "            <div>\n",
       "                <p><b>SparkSession - in-memory</b></p>\n",
       "                \n",
       "        <div>\n",
       "            <p><b>SparkContext</b></p>\n",
       "\n",
       "            <p><a href=\"http://084c1486a3d3:4040\">Spark UI</a></p>\n",
       "\n",
       "            <dl>\n",
       "              <dt>Version</dt>\n",
       "                <dd><code>v3.3.2</code></dd>\n",
       "              <dt>Master</dt>\n",
       "                <dd><code>spark://spark-master:7077</code></dd>\n",
       "              <dt>AppName</dt>\n",
       "                <dd><code>prova iniziale</code></dd>\n",
       "            </dl>\n",
       "        </div>\n",
       "        \n",
       "            </div>\n",
       "        "
      ],
      "text/plain": [
       "<pyspark.sql.session.SparkSession at 0x7f32196f3430>"
      ]
     },
     "execution_count": 2,
     "metadata": {},
     "output_type": "execute_result"
    }
   ],
   "source": [
    "spark"
   ]
  },
  {
   "cell_type": "code",
   "execution_count": 3,
   "metadata": {
    "vscode": {
     "languageId": "python"
    }
   },
   "outputs": [
    {
     "data": {
      "text/html": [
       "\n",
       "        <div>\n",
       "            <p><b>SparkContext</b></p>\n",
       "\n",
       "            <p><a href=\"http://084c1486a3d3:4040\">Spark UI</a></p>\n",
       "\n",
       "            <dl>\n",
       "              <dt>Version</dt>\n",
       "                <dd><code>v3.3.2</code></dd>\n",
       "              <dt>Master</dt>\n",
       "                <dd><code>spark://spark-master:7077</code></dd>\n",
       "              <dt>AppName</dt>\n",
       "                <dd><code>prova iniziale</code></dd>\n",
       "            </dl>\n",
       "        </div>\n",
       "        "
      ],
      "text/plain": [
       "<SparkContext master=spark://spark-master:7077 appName=prova iniziale>"
      ]
     },
     "execution_count": 3,
     "metadata": {},
     "output_type": "execute_result"
    }
   ],
   "source": [
    "# create a spark context\n",
    "sc = spark.sparkContext\n",
    "\n",
    "# print its status\n",
    "sc"
   ]
  },
  {
   "cell_type": "markdown",
   "metadata": {},
   "source": [
    "# Import data from sklearn (load in the disk)\n",
    "\n",
    "This is going to be removed in the Cloud Veneto version\n"
   ]
  },
  {
   "cell_type": "code",
   "execution_count": 4,
   "metadata": {
    "vscode": {
     "languageId": "python"
    }
   },
   "outputs": [],
   "source": [
    "sc.setLogLevel(\"ERROR\") # To hide warnings"
   ]
  },
  {
   "cell_type": "code",
   "execution_count": 5,
   "metadata": {
    "scrolled": true,
    "vscode": {
     "languageId": "python"
    }
   },
   "outputs": [
    {
     "name": "stdout",
     "output_type": "stream",
     "text": [
      "Requirement already satisfied: scikit-learn in /opt/conda/lib/python3.9/site-packages (1.3.0)\n",
      "Requirement already satisfied: scipy>=1.5.0 in /opt/conda/lib/python3.9/site-packages (from scikit-learn) (1.11.2)\n",
      "Requirement already satisfied: threadpoolctl>=2.0.0 in /opt/conda/lib/python3.9/site-packages (from scikit-learn) (3.2.0)\n",
      "Requirement already satisfied: numpy>=1.17.3 in /opt/conda/lib/python3.9/site-packages (from scikit-learn) (1.24.3)\n",
      "Requirement already satisfied: joblib>=1.1.1 in /opt/conda/lib/python3.9/site-packages (from scikit-learn) (1.3.2)\n",
      "\u001b[33mWARNING: Running pip as the 'root' user can result in broken permissions and conflicting behaviour with the system package manager. It is recommended to use a virtual environment instead: https://pip.pypa.io/warnings/venv\u001b[0m\n"
     ]
    }
   ],
   "source": [
    "!pip install scikit-learn # to be run at the launch of \"docker compose up\" "
   ]
  },
  {
   "cell_type": "code",
   "execution_count": 6,
   "metadata": {
    "vscode": {
     "languageId": "python"
    }
   },
   "outputs": [],
   "source": [
    "import numpy as np\n",
    "import pandas as pd\n",
    "import random\n",
    "import sklearn.datasets #va installato\n",
    "import time\n",
    "\n",
    "from pyspark.sql.functions import col\n",
    "from pyspark.sql.functions import mean\n",
    "from pyspark.sql.functions import stddev\n",
    "from pyspark.sql.functions import rand\n",
    "from pyspark.sql.functions import least\n",
    "from pyspark.sql.functions import monotonically_increasing_id\n",
    "from pyspark.sql.functions import row_number\n",
    "\n",
    "from pyspark.sql import Row\n",
    "from pyspark.sql import Window\n",
    "\n",
    "from pyspark.ml.feature import StandardScaler\n",
    "\n",
    "from IPython.display import Image\n",
    "import matplotlib.pyplot as plt"
   ]
  },
  {
   "cell_type": "code",
   "execution_count": 7,
   "metadata": {
    "vscode": {
     "languageId": "python"
    }
   },
   "outputs": [],
   "source": [
    "# Hyperparameters\n",
    "k = 6\n",
    "G = 3 # Giosu factor\n",
    "len_df = 300 #494_021"
   ]
  },
  {
   "cell_type": "code",
   "execution_count": 8,
   "metadata": {},
   "outputs": [],
   "source": [
    "all_points = pd.DataFrame(columns = ['x','y'])\n",
    "color_points = pd.DataFrame(columns = ['x','y','color'])"
   ]
  },
  {
   "cell_type": "code",
   "execution_count": 9,
   "metadata": {},
   "outputs": [
    {
     "name": "stdout",
     "output_type": "stream",
     "text": [
      "The category 1 has the two gaussians: 7 +- 0.9607653221098538 and 6 +- 0.21593114444321315\n",
      "The category 2 has the two gaussians: 0 +- 0.9893915669280356 and 2 +- 0.5497128207758747\n",
      "The category 3 has the two gaussians: -6 +- 0.34138688864240396 and 8 +- 0.13716081403896907\n",
      "The category 4 has the two gaussians: -3 +- 0.7605816537054294 and -3 +- 0.3119605818323139\n",
      "The category 5 has the two gaussians: -9 +- 0.275225540619483 and 6 +- 0.3200829954148344\n",
      "The category 6 has the two gaussians: -2 +- 0.561281188051815 and 1 +- 0.2764673242201461\n"
     ]
    },
    {
     "data": {
      "image/png": "[encoded data removed]",
      "text/plain": [
       "<Figure size 500x500 with 1 Axes>"
      ]
     },
     "metadata": {},
     "output_type": "display_data"
    }
   ],
   "source": [
    "Image('two_categories_scatter_plot.png')\n",
    "\n",
    "category = k # Number of cathegories shown in the plot\n",
    "points = len_df #300 # Resolution of the plotted graphics\n",
    "\n",
    "fig = plt.figure(figsize=(5, 5))\n",
    "n=0\n",
    "\n",
    "mycols = ['blue','red','green','orange','pink','purple']\n",
    "while n < category:\n",
    "    std_x, mean_x = np.random.random(), np.random.randint(-10, 10)\n",
    "    std_y, mean_y = np.random.random(), np.random.randint(-10, 10)\n",
    "\n",
    "    gaussian_x = np.random.normal(mean_x, std_x, points)\n",
    "    gaussian_y = np.random.normal(mean_y, std_y, points)\n",
    "    \n",
    "    data_xy = pd.DataFrame({'x':gaussian_x,'y':gaussian_y})\n",
    "    data_rgb = pd.DataFrame({'x':gaussian_x,'y':gaussian_y,'color':mycols[n]})\n",
    "    all_points = pd.concat([all_points,data_xy])\n",
    "    color_points = pd.concat([color_points,data_rgb])\n",
    "    \n",
    "    plt.scatter(gaussian_x, gaussian_y,alpha=0.35)\n",
    "    print('The category', n+1, 'has the two gaussians:', mean_x, '+-', std_x, 'and', mean_y, '+-', std_y)\n",
    "    n += 1\n",
    "\n",
    "    \n",
    "    \n",
    "plt.show()"
   ]
  },
  {
   "cell_type": "code",
   "execution_count": 10,
   "metadata": {},
   "outputs": [
    {
     "data": {
      "text/plain": [
       "x        1800\n",
       "y        1800\n",
       "color    1800\n",
       "dtype: int64"
      ]
     },
     "execution_count": 10,
     "metadata": {},
     "output_type": "execute_result"
    }
   ],
   "source": [
    "color_points.count()"
   ]
  },
  {
   "cell_type": "code",
   "execution_count": 11,
   "metadata": {},
   "outputs": [
    {
     "data": {
      "text/plain": [
       "x    1800\n",
       "y    1800\n",
       "dtype: int64"
      ]
     },
     "execution_count": 11,
     "metadata": {},
     "output_type": "execute_result"
    }
   ],
   "source": [
    "X = all_points\n",
    "X.count()"
   ]
  },
  {
   "cell_type": "code",
   "execution_count": 12,
   "metadata": {
    "scrolled": true,
    "vscode": {
     "languageId": "python"
    }
   },
   "outputs": [],
   "source": [
    "n_cols = len(X.iloc[0])"
   ]
  },
  {
   "cell_type": "code",
   "execution_count": 13,
   "metadata": {
    "vscode": {
     "languageId": "python"
    }
   },
   "outputs": [
    {
     "data": {
      "text/plain": [
       "2"
      ]
     },
     "execution_count": 13,
     "metadata": {},
     "output_type": "execute_result"
    }
   ],
   "source": [
    "# Show the dataframe (to be deleted for a bigger dataframe) (TO BE DELETED)\n",
    "n_cols"
   ]
  },
  {
   "cell_type": "markdown",
   "metadata": {},
   "source": [
    "# Create a Spark dataframe\n",
    "And then acquire important informations about the dataframe: # columns, # rows, # partitions, the schema, ..."
   ]
  },
  {
   "cell_type": "code",
   "execution_count": 14,
   "metadata": {
    "vscode": {
     "languageId": "python"
    }
   },
   "outputs": [
    {
     "name": "stderr",
     "output_type": "stream",
     "text": [
      "/usr/bin/spark-3.3.2-bin-hadoop3/python/pyspark/sql/pandas/conversion.py:474: FutureWarning: iteritems is deprecated and will be removed in a future version. Use .items instead.\n",
      "  for column, series in pdf.iteritems():\n",
      "/usr/bin/spark-3.3.2-bin-hadoop3/python/pyspark/sql/pandas/conversion.py:486: FutureWarning: iteritems is deprecated and will be removed in a future version. Use .items instead.\n",
      "  for column, series in pdf.iteritems():\n"
     ]
    },
    {
     "data": {
      "text/plain": [
       "DataFrame[x: double, y: double]"
      ]
     },
     "execution_count": 14,
     "metadata": {},
     "output_type": "execute_result"
    }
   ],
   "source": [
    "# Create the spark dataframe with a smaller chunk of data (just to work easily)\n",
    "spark_X = spark.createDataFrame(X)\n",
    "spark_X.persist()"
   ]
  },
  {
   "cell_type": "code",
   "execution_count": 15,
   "metadata": {
    "scrolled": true,
    "vscode": {
     "languageId": "python"
    }
   },
   "outputs": [
    {
     "data": {
      "text/plain": [
       "3"
      ]
     },
     "execution_count": 15,
     "metadata": {},
     "output_type": "execute_result"
    }
   ],
   "source": [
    "# Check the number of partitions the DataFrame is divided into the three workers yet\n",
    "spark_X.rdd.getNumPartitions()"
   ]
  },
  {
   "cell_type": "code",
   "execution_count": 16,
   "metadata": {
    "vscode": {
     "languageId": "python"
    }
   },
   "outputs": [],
   "source": [
    "# Define a function that is able to select the single row in the dataframe\n",
    "def getrows(df, rownums=None): # copied from the internet\n",
    "    return df.rdd.zipWithIndex().filter(lambda x: x[1] in rownums).map(lambda x: x[0])"
   ]
  },
  {
   "cell_type": "code",
   "execution_count": 17,
   "metadata": {
    "vscode": {
     "languageId": "python"
    }
   },
   "outputs": [
    {
     "name": "stderr",
     "output_type": "stream",
     "text": [
      "                                                                                \r"
     ]
    }
   ],
   "source": [
    "# Define the number of rows and columns in the dataframe\n",
    "n_rows = spark_X.count()"
   ]
  },
  {
   "cell_type": "code",
   "execution_count": 18,
   "metadata": {
    "vscode": {
     "languageId": "python"
    }
   },
   "outputs": [],
   "source": [
    "# Delete the non-numerical values in an easy way\n",
    "# clean_X = spark_X.select('*').drop('protocol_type', 'service', 'flag')\n",
    "# clean_X.printSchema()\n",
    "\n",
    "# Delete the non-numerical values in a reusable way\n",
    "col_type = np.array(spark_X.dtypes)\n",
    "types = col_type[:,1] \n",
    "colnames = col_type[:,0]\n",
    "clean_X = spark_X.select([col(colnames[i]) for i in range(len(colnames)) if not types[i] == 'binary'])"
   ]
  },
  {
   "cell_type": "markdown",
   "metadata": {},
   "source": [
    "# Step 0: Useful functions for the initialization\n"
   ]
  },
  {
   "cell_type": "code",
   "execution_count": 19,
   "metadata": {
    "vscode": {
     "languageId": "python"
    }
   },
   "outputs": [],
   "source": [
    "# Define the function for the distance between the cluster centers and the pandas dataframe\n",
    "def distance(xrow, centers, num_cols=n_cols):\n",
    "    '''Distance between a dataframe.row\n",
    "    and the broadcasted value list of centers\n",
    "    in the form of dataframe.row.value:\n",
    "    \n",
    "    broadC = sc.broadcast(center_rows).value\n",
    "    xrow = clean_X.collect()[1]\n",
    "    '''\n",
    "    x = np.array(xrow)[:num_cols]\n",
    "    the_ds = np.zeros(len(centers))\n",
    "    \n",
    "    for c in range(len(centers)):\n",
    "        c_array = np.array(centers[c])[:num_cols]\n",
    "        dist2 = np.linalg.norm(x - c_array)**2\n",
    "        the_ds[c] = dist2\n",
    "        \n",
    "    return np.min(the_ds)\n",
    "\n",
    "# Formula to evaluate the oversamping factor with the pre-factor G\n",
    "def evaluate_l(log_phi, k, G):\n",
    "    return G * k/log_phi # G = over-oversampling factor\n",
    "\n",
    "# Function to select a row based on its probability\n",
    "def select_row(x):\n",
    "    if x > np.random.uniform(low = 0, high = 1):\n",
    "        return True\n",
    "    else:\n",
    "        return False\n"
   ]
  },
  {
   "cell_type": "markdown",
   "metadata": {},
   "source": [
    "### This is NOT $\\Phi$. This is $log(\\Phi)$. Pay attention budeo."
   ]
  },
  {
   "cell_type": "markdown",
   "metadata": {},
   "source": [
    "# Step 1: Choose a random sample from the dataset\n",
    "This is the required step to begin the algorithm (doesn't need to be parallelized, since it is a select task)"
   ]
  },
  {
   "cell_type": "code",
   "execution_count": 20,
   "metadata": {
    "vscode": {
     "languageId": "python"
    }
   },
   "outputs": [
    {
     "name": "stderr",
     "output_type": "stream",
     "text": [
      "\r",
      "[Stage 3:===================>                                       (1 + 2) / 3]\r",
      "\r",
      "                                                                                \r"
     ]
    }
   ],
   "source": [
    "# Choose the first sample randomly: select the random row\n",
    "random_n = [np.random.randint(0, n_rows)]\n",
    "random_sample = getrows(clean_X, random_n).collect()"
   ]
  },
  {
   "cell_type": "markdown",
   "metadata": {},
   "source": [
    "# Step 2: Initial cost\n",
    "Then we evaluate the cost function (sum of the squares after the first selection)"
   ]
  },
  {
   "cell_type": "code",
   "execution_count": 21,
   "metadata": {
    "vscode": {
     "languageId": "python"
    }
   },
   "outputs": [],
   "source": [
    "colnames = list(clean_X.dtypes[i][0] for i in range(len(clean_X.dtypes)))"
   ]
  },
  {
   "cell_type": "code",
   "execution_count": 22,
   "metadata": {
    "vscode": {
     "languageId": "python"
    }
   },
   "outputs": [],
   "source": [
    "# Add the colunm to keep the minimum distance between each point and the closest center\n",
    "clean_X = (clean_X.select('*')\n",
    "           .withColumn('minimum_cost', sum((col(colname)-random_sample[0][colname])**2 for colname in colnames)))"
   ]
  },
  {
   "cell_type": "code",
   "execution_count": 23,
   "metadata": {
    "vscode": {
     "languageId": "python"
    }
   },
   "outputs": [
    {
     "data": {
      "text/plain": [
       "11.818831131609619"
      ]
     },
     "execution_count": 23,
     "metadata": {},
     "output_type": "execute_result"
    }
   ],
   "source": [
    "# Initial cost\n",
    "initial_cost = np.log(clean_X.agg({\"minimum_cost\": \"sum\"}).collect()[0][0])\n",
    "initial_cost"
   ]
  },
  {
   "cell_type": "code",
   "execution_count": 24,
   "metadata": {
    "vscode": {
     "languageId": "python"
    }
   },
   "outputs": [],
   "source": [
    "# Add the newly introduced value to the row that I selected in the first place\n",
    "temp = random_sample[0].asDict()\n",
    "temp[\"minimum_cost\"] = 0.\n",
    "random_sample[0] = Row(**temp)"
   ]
  },
  {
   "cell_type": "code",
   "execution_count": 25,
   "metadata": {
    "vscode": {
     "languageId": "python"
    }
   },
   "outputs": [],
   "source": [
    "# Broadcasting the row over the workers\n",
    "bCent = sc.broadcast(random_sample)\n",
    "\n",
    "# To show the content of the broadcast: b.value"
   ]
  },
  {
   "cell_type": "markdown",
   "metadata": {},
   "source": [
    "## Step 2.5: evaluate number of iterations\n",
    "\n",
    "After having evaluated $\\log \\phi$, we find a number of iterations which is of the same order of magnitude."
   ]
  },
  {
   "cell_type": "code",
   "execution_count": 26,
   "metadata": {
    "vscode": {
     "languageId": "python"
    }
   },
   "outputs": [
    {
     "data": {
      "text/plain": [
       "11"
      ]
     },
     "execution_count": 26,
     "metadata": {},
     "output_type": "execute_result"
    }
   ],
   "source": [
    "n_iter = int(initial_cost)\n",
    "n_iter"
   ]
  },
  {
   "cell_type": "markdown",
   "metadata": {},
   "source": [
    "# Step 3: For loop\n",
    "Implement the for loop in order to evaluate probabilities and choose new centers\n",
    "\n"
   ]
  },
  {
   "cell_type": "code",
   "execution_count": 27,
   "metadata": {
    "vscode": {
     "languageId": "python"
    }
   },
   "outputs": [
    {
     "data": {
      "text/plain": [
       "1.522993246925981"
      ]
     },
     "execution_count": 27,
     "metadata": {},
     "output_type": "execute_result"
    }
   ],
   "source": [
    "phi_iter = initial_cost\n",
    "l = evaluate_l(phi_iter, k, G)\n",
    "l"
   ]
  },
  {
   "cell_type": "code",
   "execution_count": 28,
   "metadata": {
    "vscode": {
     "languageId": "python"
    }
   },
   "outputs": [
    {
     "name": "stdout",
     "output_type": "stream",
     "text": [
      "--- 0.7652795314788818 seconds ---\n",
      "--- 0.017952680587768555 seconds ---\n"
     ]
    },
    {
     "name": "stderr",
     "output_type": "stream",
     "text": [
      "                                                                                \r"
     ]
    },
    {
     "name": "stdout",
     "output_type": "stream",
     "text": [
      "--- 1.9185130596160889 seconds ---\n",
      "\n",
      " at iteration 1 , #values:  3  \n",
      "\n",
      "--- 0.659416913986206 seconds ---\n",
      "--- 0.03132367134094238 seconds ---\n",
      "--- 1.0069832801818848 seconds ---\n",
      "\n",
      " at iteration 2 , #values:  5  \n",
      "\n",
      "--- 0.5037941932678223 seconds ---\n",
      "--- 0.01746511459350586 seconds ---\n",
      "--- 1.1985836029052734 seconds ---\n",
      "\n",
      " at iteration 3 , #values:  7  \n",
      "\n",
      "--- 0.5277934074401855 seconds ---\n",
      "--- 0.05241751670837402 seconds ---\n",
      "--- 0.9918279647827148 seconds ---\n",
      "\n",
      " at iteration 4 , #values:  8  \n",
      "\n",
      "--- 0.4792640209197998 seconds ---\n",
      "--- 0.0059185028076171875 seconds ---\n",
      "--- 0.8232519626617432 seconds ---\n",
      "\n",
      " at iteration 5 , #values:  9  \n",
      "\n",
      "--- 0.3873004913330078 seconds ---\n",
      "--- 0.012660741806030273 seconds ---\n",
      "--- 0.6248412132263184 seconds ---\n",
      "\n",
      " at iteration 6 , #values:  10  \n",
      "\n",
      "--- 0.3045690059661865 seconds ---\n",
      "--- 0.007025480270385742 seconds ---\n",
      "--- 0.8761014938354492 seconds ---\n",
      "\n",
      " at iteration 7 , #values:  12  \n",
      "\n",
      "--- 0.3304731845855713 seconds ---\n",
      "--- 0.00599217414855957 seconds ---\n",
      "--- 0.31843066215515137 seconds ---\n",
      "\n",
      " at iteration 8 , #values:  12  \n",
      "\n",
      "--- 0.4565131664276123 seconds ---\n",
      "--- 0.03773331642150879 seconds ---\n",
      "--- 0.7127039432525635 seconds ---\n",
      "\n",
      " at iteration 9 , #values:  13  \n",
      "\n",
      "--- 0.2542283535003662 seconds ---\n",
      "--- 0.003952741622924805 seconds ---\n",
      "--- 0.5548038482666016 seconds ---\n",
      "\n",
      " at iteration 10 , #values:  17  \n",
      "\n",
      "--- 0.4046180248260498 seconds ---\n",
      "--- 0.009395122528076172 seconds ---\n",
      "--- 0.5476882457733154 seconds ---\n",
      "\n",
      " at iteration 11 , #values:  21  \n",
      "\n",
      "CPU times: user 478 ms, sys: 229 ms, total: 708 ms\n",
      "Wall time: 14.9 s\n"
     ]
    }
   ],
   "source": [
    "%%time\n",
    "\n",
    "i = 0\n",
    "last_centers = 1\n",
    "start_time = time.time()\n",
    "\n",
    "while i < n_iter:   # or len(bCent.value) < k: # added as a safety condition (useless for very long datasets)\n",
    "\n",
    "        '''\n",
    "        Nel ciclo for:\n",
    "            - Evaluate for each row l * d()^2 / phi\n",
    "            - Sample with that probability\n",
    "            - Broadcast centers to nodes\n",
    "            - Evaluate new cost\n",
    "\n",
    "        Ricordiamoci che distance è già al quadrato e che phi è il logaritmo\n",
    "        '''\n",
    "\n",
    "        # Evaluate the probability and select the new rows\n",
    "        mod_phi = l/np.exp(phi_iter)\n",
    "        new_rows = clean_X.select('*').withColumn('random_number', rand(seed=int(time.time())))\\\n",
    "                          .filter(col('random_number') < col('minimum_cost')*mod_phi).drop('random_number').collect()\n",
    "\n",
    "        print(\"--- %s seconds ---\" % (time.time() - start_time))\n",
    "        start_time = time.time()\n",
    "        \n",
    "        # Update the broadcast in a non-usual way (newest at the beginning)\n",
    "        bCent = sc.broadcast(new_rows + bCent.value)\n",
    "        \n",
    "        print(\"--- %s seconds ---\" % (time.time() - start_time))\n",
    "        start_time = time.time()\n",
    "\n",
    "        # Update the minimum distance\n",
    "        if len(new_rows) == 1:\n",
    "            clean_X = clean_X.select('*').\\\n",
    "                      withColumn('minimum_cost', least('minimum_cost', sum((col(colname)-bCent.value[0][colname])**2 for colname in colnames) )).cache()\n",
    "\n",
    "        elif len(new_rows) > 1:\n",
    "            clean_X = clean_X.select('*').withColumn('dummy', least(*[sum((col(colname)-bCent.value[center][colname])**2 for colname in colnames) for center in range(len(new_rows))] )).\\\n",
    "                      withColumn('minimum_cost', least('minimum_cost', 'dummy')).\\\n",
    "                      drop('dummy').cache()\n",
    "\n",
    "        last_centers = len(bCent.value)\n",
    "\n",
    "        # Evaluate new cost\n",
    "        phi_iter = np.log(clean_X.agg({\"minimum_cost\": \"sum\"}).collect()[0][0])\n",
    "\n",
    "        print(\"--- %s seconds ---\" % (time.time() - start_time))\n",
    "        start_time = time.time()\n",
    "\n",
    "        i += 1\n",
    "\n",
    "        print(\"\\n at iteration\", i ,\", #values: \",len(bCent.value), \" \\n\")\n"
   ]
  },
  {
   "cell_type": "code",
   "execution_count": 29,
   "metadata": {},
   "outputs": [
    {
     "data": {
      "text/plain": [
       "-0.31061609653505157"
      ]
     },
     "execution_count": 29,
     "metadata": {},
     "output_type": "execute_result"
    }
   ],
   "source": [
    "bCent.value[0][0]"
   ]
  },
  {
   "cell_type": "code",
   "execution_count": 30,
   "metadata": {},
   "outputs": [
    {
     "data": {
      "image/png": "[encoded data removed]",
      "text/plain": [
       "<Figure size 640x480 with 1 Axes>"
      ]
     },
     "metadata": {},
     "output_type": "display_data"
    }
   ],
   "source": [
    "plt.scatter(color_points['x'],color_points['y'],color=color_points['color'])\n",
    "\n",
    "for i in range(len(bCent.value)):\n",
    "    plt.scatter(bCent.value[i][0],bCent.value[i][1],color='black')"
   ]
  },
  {
   "cell_type": "markdown",
   "metadata": {},
   "source": [
    "for each row evaluate distance from new points --> if it's less than mindistance substitute"
   ]
  },
  {
   "cell_type": "code",
   "execution_count": 31,
   "metadata": {
    "vscode": {
     "languageId": "python"
    }
   },
   "outputs": [
    {
     "name": "stdout",
     "output_type": "stream",
     "text": [
      "root\n",
      " |-- x: double (nullable = true)\n",
      " |-- y: double (nullable = true)\n",
      " |-- minimum_cost: double (nullable = true)\n",
      "\n"
     ]
    }
   ],
   "source": [
    "clean_X.printSchema()"
   ]
  },
  {
   "cell_type": "markdown",
   "metadata": {},
   "source": [
    "# Step 4: Select a subset of the possible centroids using k-means ++\n",
    "\n",
    "Using kmeans ++:\n",
    "\n",
    "Algorithm 1 k-means++(k) initialization.\n",
    "1: C ← sample a point uniformly at random from X\n",
    "2: while |C| < k do\n",
    "2\n",
    "3:\n",
    "Sample x ∈ X with probability dφX(x,C)\n",
    "(C)\n",
    "4:\n",
    "C ← C ∪ {"
   ]
  },
  {
   "cell_type": "markdown",
   "metadata": {},
   "source": [
    "#### Function to find closest center among list"
   ]
  },
  {
   "cell_type": "code",
   "execution_count": 32,
   "metadata": {
    "vscode": {
     "languageId": "python"
    }
   },
   "outputs": [],
   "source": [
    "# Define the function to find the closest center from any point in order to find the weights\n",
    "def find_closest_center(xrow, broadC, num_cols=n_cols):\n",
    "    '''Find the center in the broadcasted value \n",
    "    list whose distance from a dataframe.row \n",
    "    is the lowest:\n",
    "    \n",
    "    broadC = sc.broadcast(center_rows)\n",
    "    xrow = clean_X.collect()[1]\n",
    "    '''\n",
    "    x = np.array(xrow)[:num_cols]\n",
    "    centers = broadC.value\n",
    "    the_ds = np.zeros(len(centers))\n",
    "    \n",
    "    for c in range(len(centers)):\n",
    "        c_array = np.array(centers[c])[:num_cols]\n",
    "        dist2 = np.linalg.norm(x - c_array)**2\n",
    "        the_ds[c] = dist2\n",
    "        \n",
    "    return np.argmin(the_ds)"
   ]
  },
  {
   "cell_type": "code",
   "execution_count": 33,
   "metadata": {
    "vscode": {
     "languageId": "python"
    }
   },
   "outputs": [],
   "source": [
    "dfCent = spark.createDataFrame(bCent.value) "
   ]
  },
  {
   "cell_type": "code",
   "execution_count": 34,
   "metadata": {
    "vscode": {
     "languageId": "python"
    }
   },
   "outputs": [],
   "source": [
    "over_sampled_centers = dfCent.count()"
   ]
  },
  {
   "cell_type": "code",
   "execution_count": 35,
   "metadata": {
    "vscode": {
     "languageId": "python"
    }
   },
   "outputs": [
    {
     "data": {
      "text/plain": [
       "3"
      ]
     },
     "execution_count": 35,
     "metadata": {},
     "output_type": "execute_result"
    }
   ],
   "source": [
    "dfCent.rdd.getNumPartitions()"
   ]
  },
  {
   "cell_type": "code",
   "execution_count": 36,
   "metadata": {
    "vscode": {
     "languageId": "python"
    }
   },
   "outputs": [
    {
     "data": {
      "text/plain": [
       "21"
      ]
     },
     "execution_count": 36,
     "metadata": {},
     "output_type": "execute_result"
    }
   ],
   "source": [
    "len(bCent.value)"
   ]
  },
  {
   "cell_type": "markdown",
   "metadata": {},
   "source": [
    "## Reduce size of dfCent to have only `k` centroids \n",
    "\n",
    "#### Step 1: calc weights $w_x$\n",
    "set wx to be the number of points in X closer to x than any other point in C"
   ]
  },
  {
   "cell_type": "code",
   "execution_count": 37,
   "metadata": {
    "vscode": {
     "languageId": "python"
    }
   },
   "outputs": [
    {
     "name": "stderr",
     "output_type": "stream",
     "text": [
      "                                                                                \r"
     ]
    }
   ],
   "source": [
    "wx = clean_X.rdd.map(lambda row: (find_closest_center(row,bCent),1)).reduceByKey(lambda x,y: x+y).\\\n",
    "     takeOrdered(over_sampled_centers) #o lambda x,y: x+y"
   ]
  },
  {
   "cell_type": "code",
   "execution_count": 38,
   "metadata": {
    "vscode": {
     "languageId": "python"
    }
   },
   "outputs": [
    {
     "data": {
      "text/plain": [
       "[(0, 62),\n",
       " (1, 42),\n",
       " (2, 15),\n",
       " (3, 133),\n",
       " (4, 30),\n",
       " (5, 14),\n",
       " (6, 166),\n",
       " (7, 93),\n",
       " (8, 29),\n",
       " (9, 62),\n",
       " (10, 46),\n",
       " (11, 83),\n",
       " (12, 139),\n",
       " (13, 15),\n",
       " (14, 129),\n",
       " (15, 94),\n",
       " (16, 116),\n",
       " (17, 74),\n",
       " (18, 161),\n",
       " (19, 39),\n",
       " (20, 258)]"
      ]
     },
     "execution_count": 38,
     "metadata": {},
     "output_type": "execute_result"
    }
   ],
   "source": [
    "wx"
   ]
  },
  {
   "cell_type": "code",
   "execution_count": 39,
   "metadata": {
    "vscode": {
     "languageId": "python"
    }
   },
   "outputs": [
    {
     "data": {
      "text/plain": [
       "list"
      ]
     },
     "execution_count": 39,
     "metadata": {},
     "output_type": "execute_result"
    }
   ],
   "source": [
    "type(wx)"
   ]
  },
  {
   "cell_type": "code",
   "execution_count": 40,
   "metadata": {
    "vscode": {
     "languageId": "python"
    }
   },
   "outputs": [
    {
     "data": {
      "text/plain": [
       "array([ 62.,  42.,  15., 133.,  30.,  14., 166.,  93.,  29.,  62.,  46.,\n",
       "        83., 139.,  15., 129.,  94., 116.,  74., 161.,  39., 258.])"
      ]
     },
     "execution_count": 40,
     "metadata": {},
     "output_type": "execute_result"
    }
   ],
   "source": [
    "wx = (np.array(wx)[:,1]).astype(float)\n",
    "wx"
   ]
  },
  {
   "cell_type": "code",
   "execution_count": 41,
   "metadata": {
    "vscode": {
     "languageId": "python"
    }
   },
   "outputs": [
    {
     "data": {
      "text/plain": [
       "array([0.03444444, 0.02333333, 0.00833333, 0.07388889, 0.01666667,\n",
       "       0.00777778, 0.09222222, 0.05166667, 0.01611111, 0.03444444,\n",
       "       0.02555556, 0.04611111, 0.07722222, 0.00833333, 0.07166667,\n",
       "       0.05222222, 0.06444444, 0.04111111, 0.08944444, 0.02166667,\n",
       "       0.14333333])"
      ]
     },
     "execution_count": 41,
     "metadata": {},
     "output_type": "execute_result"
    }
   ],
   "source": [
    "wx /= np.sum(wx)\n",
    "wx"
   ]
  },
  {
   "cell_type": "code",
   "execution_count": 42,
   "metadata": {
    "vscode": {
     "languageId": "python"
    }
   },
   "outputs": [],
   "source": [
    "# Maybe we need to get rid of bCent ??\n",
    "# bCent.destroy()\n",
    "# bCent.unpersist()"
   ]
  },
  {
   "cell_type": "markdown",
   "metadata": {},
   "source": [
    "#### Step 2: Use weighted `k-means++`\n",
    "    2.1 Draw 1 random center\n",
    "    2.2 update cost function\n",
    "    2.3 repeat 1-2 until happy"
   ]
  },
  {
   "cell_type": "code",
   "execution_count": 43,
   "metadata": {
    "vscode": {
     "languageId": "python"
    }
   },
   "outputs": [
    {
     "data": {
      "text/plain": [
       "array([16])"
      ]
     },
     "execution_count": 43,
     "metadata": {},
     "output_type": "execute_result"
    }
   ],
   "source": [
    "# 2.1 Draw 1 random center\n",
    "\n",
    "first_index = np.random.choice(a=range(wx.shape[0]), size=1, p=wx) \n",
    "#first point sampled uniformly wrt distance\n",
    "\n",
    "first_index"
   ]
  },
  {
   "cell_type": "code",
   "execution_count": 44,
   "metadata": {
    "vscode": {
     "languageId": "python"
    }
   },
   "outputs": [
    {
     "data": {
      "text/plain": [
       "[Row(x=0.07513640999572965, y=1.8627195328264026, minimum_cost=35.696913833175316)]"
      ]
     },
     "execution_count": 44,
     "metadata": {},
     "output_type": "execute_result"
    }
   ],
   "source": [
    "first_center = getrows(dfCent, first_index).collect()\n",
    "first_center"
   ]
  },
  {
   "cell_type": "code",
   "execution_count": 45,
   "metadata": {
    "vscode": {
     "languageId": "python"
    }
   },
   "outputs": [
    {
     "data": {
      "text/plain": [
       "[Row(x=0.07513640999572965, y=1.8627195328264026, minimum_cost=35.696913833175316)]"
      ]
     },
     "execution_count": 45,
     "metadata": {},
     "output_type": "execute_result"
    }
   ],
   "source": [
    "# Adds the first center to the ultimate center\n",
    "bCent_ultimate = sc.broadcast(first_center)\n",
    "bCent_ultimate.value"
   ]
  },
  {
   "cell_type": "code",
   "execution_count": 46,
   "metadata": {
    "vscode": {
     "languageId": "python"
    }
   },
   "outputs": [],
   "source": [
    "# Define the total distance from other centers (minimum cost) over the chosen center\n",
    "dfCent = (dfCent.select('*')\n",
    "         .withColumn('minimum_cost', sum((col(colname)-first_center[0][colname])**2 for colname in colnames)))"
   ]
  },
  {
   "cell_type": "code",
   "execution_count": 47,
   "metadata": {
    "vscode": {
     "languageId": "python"
    }
   },
   "outputs": [
    {
     "data": {
      "text/plain": [
       "6.780468304958876"
      ]
     },
     "execution_count": 47,
     "metadata": {},
     "output_type": "execute_result"
    }
   ],
   "source": [
    "# Initialize the total cost value\n",
    "phi0 = np.log(dfCent.agg({\"minimum_cost\": \"sum\"}).collect()[0][0])\n",
    "phi0"
   ]
  },
  {
   "cell_type": "code",
   "execution_count": 48,
   "metadata": {
    "vscode": {
     "languageId": "python"
    }
   },
   "outputs": [
    {
     "name": "stdout",
     "output_type": "stream",
     "text": [
      "\n",
      " i:  2\n",
      "\n",
      " i:  3\n",
      "\n",
      " i:  4\n",
      "\n",
      " i:  5\n",
      "\n",
      " i:  6\n",
      "CPU times: user 243 ms, sys: 59.1 ms, total: 302 ms\n",
      "Wall time: 5.75 s\n"
     ]
    }
   ],
   "source": [
    "%%time\n",
    "\n",
    "# 2.2 Update cost function\n",
    "\n",
    "ultimate_sample_n = len(bCent_ultimate.value)\n",
    "\n",
    "while ultimate_sample_n < k: #n_iter or len(bCent.value) < k:\n",
    "    '''\n",
    "    Nel ciclo for:\n",
    "        - Evaluate for each row wx * d()^2 / phi\n",
    "        - Sample with that probability\n",
    "        - Broadcast centers to nodes\n",
    "        - Evaluate new cost\n",
    "        \n",
    "    Ricordiamoci che distance è già al quadrato e che phi è il logaritmo\n",
    "    '''\n",
    "    \n",
    "    # Evaluate the probability and select the new rows\n",
    "    rows_prob = np.array(dfCent.rdd\\\n",
    "                .map(lambda row: distance(row,bCent_ultimate.value)).collect())\n",
    "    # Forse pensare ad un modo alternativo di fare questo conto qui.... crescita lineare di bCent_ultimate\n",
    "    \n",
    "    # Sample new weighted random center\n",
    "    another_index = np.random.choice(a=range(wx.shape[0]), size=1, p = rows_prob*wx/(rows_prob@wx) ) \n",
    "    another_center = getrows(dfCent, another_index).collect()\n",
    "    \n",
    "    # Update the broadcast\n",
    "    bCent_ultimate = sc.broadcast(another_center + bCent_ultimate.value)\n",
    "    \n",
    "    # Update minimum cost\n",
    "    dfCent = dfCent.select('*').\\\n",
    "    withColumn('minimum_cost', least('minimum_cost', sum((col(colname)-another_center[0][colname])**2 for colname in colnames) )).cache()\n",
    "    \n",
    "    # Evaluate new cost\n",
    "    phi0 = np.log(dfCent.agg({\"minimum_cost\": \"sum\"}).collect()[0][0])\n",
    "    \n",
    "    ultimate_sample_n = len(bCent_ultimate.value)\n",
    "    print(\"\\n i: \",ultimate_sample_n)\n"
   ]
  },
  {
   "cell_type": "code",
   "execution_count": 49,
   "metadata": {},
   "outputs": [
    {
     "data": {
      "image/png": "[encoded data removed]",
      "text/plain": [
       "<Figure size 640x480 with 1 Axes>"
      ]
     },
     "metadata": {},
     "output_type": "display_data"
    }
   ],
   "source": [
    "plt.scatter(color_points['x'],color_points['y'],color=color_points['color'])\n",
    "\n",
    "for i in range(len(bCent_ultimate.value)):\n",
    "    plt.scatter(bCent_ultimate.value[i][0],bCent_ultimate.value[i][1],color='black')"
   ]
  },
  {
   "cell_type": "markdown",
   "metadata": {},
   "source": [
    "# k-Means implementation"
   ]
  },
  {
   "cell_type": "code",
   "execution_count": 50,
   "metadata": {},
   "outputs": [
    {
     "name": "stderr",
     "output_type": "stream",
     "text": [
      "/usr/bin/spark-3.3.2-bin-hadoop3/python/pyspark/sql/pandas/conversion.py:474: FutureWarning: iteritems is deprecated and will be removed in a future version. Use .items instead.\n",
      "  for column, series in pdf.iteritems():\n",
      "/usr/bin/spark-3.3.2-bin-hadoop3/python/pyspark/sql/pandas/conversion.py:486: FutureWarning: iteritems is deprecated and will be removed in a future version. Use .items instead.\n",
      "  for column, series in pdf.iteritems():\n",
      "                                                                                \r"
     ]
    },
    {
     "name": "stdout",
     "output_type": "stream",
     "text": [
      "It took 2 iterations to converge\n",
      "CPU times: user 124 ms, sys: 58.5 ms, total: 183 ms\n",
      "Wall time: 4.22 s\n"
     ]
    }
   ],
   "source": [
    "%%time\n",
    "\n",
    "# Add indexes to clean_X\n",
    "clean_X = clean_X.withColumn(\"index\", row_number().over(Window.orderBy(monotonically_increasing_id())))\n",
    "\n",
    "# Loop\n",
    "n = 0\n",
    "phi1 = phi0\n",
    "still_different = True\n",
    "eps = 1e-4\n",
    "\n",
    "while still_different:\n",
    "\n",
    "    # Create the weights and switch to indexed dataframe\n",
    "    weight_X = clean_X.rdd.map(lambda row: find_closest_center(row,bCent_ultimate)).collect()\n",
    "    dfw = spark.createDataFrame(pd.DataFrame({'closest':weight_X}))\n",
    "    dfw = dfw.withColumn(\"index\",row_number().over(Window.orderBy(monotonically_increasing_id())))\n",
    "\n",
    "    # Join with the initial clean_X\n",
    "    final_df = clean_X.join(dfw, on=\"index\").drop('index')\n",
    "\n",
    "    # Update new centers:\n",
    "    new_centers = final_df.groupBy('closest').agg(*[mean(c).alias(c) for c in colnames]).\\\n",
    "                  rdd.takeOrdered(k, key = (lambda x: x))\n",
    "    bCent_ultimate = sc.broadcast(new_centers)\n",
    "    \n",
    "    # Update the minimum cost function\n",
    "    clean_X = clean_X.select('*').\\\n",
    "          withColumn('minimum_cost', least('minimum_cost', sum((col(colname)-bCent_ultimate.value[0][colname])**2 for colname in colnames) )).cache()\n",
    "    \n",
    "    # Evaluate new cost\n",
    "    phi1 = np.log(dfCent.agg({\"minimum_cost\": \"sum\"}).collect()[0][0])\n",
    "    if abs(phi1 - phi0)/phi0 < eps:\n",
    "        still_different = False\n",
    "    else:\n",
    "        phi0 = phi1\n",
    "\n",
    "    n += 1\n",
    "    \n",
    "print('It took', n+1, 'iterations to converge')"
   ]
  },
  {
   "cell_type": "code",
   "execution_count": 51,
   "metadata": {},
   "outputs": [
    {
     "name": "stdout",
     "output_type": "stream",
     "text": [
      "root\n",
      " |-- x: double (nullable = true)\n",
      " |-- y: double (nullable = true)\n",
      " |-- minimum_cost: double (nullable = true)\n",
      " |-- index: integer (nullable = false)\n",
      "\n"
     ]
    }
   ],
   "source": [
    "clean_X.printSchema()"
   ]
  },
  {
   "cell_type": "code",
   "execution_count": 52,
   "metadata": {},
   "outputs": [
    {
     "data": {
      "text/plain": [
       "[Row(closest=0, x=-8.980552775428842, y=5.997306051106783),\n",
       " Row(closest=1, x=-2.010254827319732, y=1.0426374523068125),\n",
       " Row(closest=2, x=-3.0056465618231347, y=-2.980635655755538),\n",
       " Row(closest=3, x=-6.019066704290716, y=7.997307574829118),\n",
       " Row(closest=4, x=7.021638534208966, y=6.012236564592858),\n",
       " Row(closest=5, x=0.147542526380226, y=2.0304514333026966)]"
      ]
     },
     "execution_count": 52,
     "metadata": {},
     "output_type": "execute_result"
    }
   ],
   "source": [
    "bCent_ultimate.value"
   ]
  },
  {
   "cell_type": "code",
   "execution_count": 53,
   "metadata": {},
   "outputs": [
    {
     "name": "stdout",
     "output_type": "stream",
     "text": [
      "+-----------------+-----------------+------------------+-----+\n",
      "|                x|                y|      minimum_cost|index|\n",
      "+-----------------+-----------------+------------------+-----+\n",
      "|5.820847042079944|5.693427357517831|0.5989355431348327|    1|\n",
      "|5.896066470820068|5.978582660558289|0.3791049717978624|    2|\n",
      "|4.706733054520273|6.575392915496824|3.5189140672711323|    3|\n",
      "+-----------------+-----------------+------------------+-----+\n",
      "only showing top 3 rows\n",
      "\n"
     ]
    }
   ],
   "source": [
    "clean_X.show(3)"
   ]
  },
  {
   "cell_type": "code",
   "execution_count": 54,
   "metadata": {},
   "outputs": [
    {
     "data": {
      "image/png": "[encoded data removed]",
      "text/plain": [
       "<Figure size 640x480 with 1 Axes>"
      ]
     },
     "metadata": {},
     "output_type": "display_data"
    }
   ],
   "source": [
    "plt.scatter(color_points['x'],color_points['y'],color=color_points['color'])\n",
    "\n",
    "for i in range(len(bCent_ultimate.value)):\n",
    "    plt.scatter(bCent_ultimate.value[i][1],bCent_ultimate.value[i][2],color='black')"
   ]
  },
  {
   "cell_type": "markdown",
   "metadata": {},
   "source": [
    "# TO DO:\n",
    "    - Capire come scegliere l\n",
    "    - Fare la normalizzazione dei dati (se la facciamo)\n",
    "    - Capire se abbiamo ottimizzato nel modo giusto\n",
    "    - Implementare tutto k means (optional)\n",
    "    - Creare un file gemello con un dataframe visualizzabile e vedere se ha senso\n",
    "    - Iniziare a fare i benchmark su cloud veneto\n",
    "    - Grafici etc..."
   ]
  },
  {
   "cell_type": "markdown",
   "metadata": {},
   "source": [
    "# Stop worker and master\n",
    "Stop the running Spark context (sc) and Spark session (spark)"
   ]
  },
  {
   "cell_type": "code",
   "execution_count": 55,
   "metadata": {
    "vscode": {
     "languageId": "python"
    }
   },
   "outputs": [],
   "source": [
    "#sc.stop()\n",
    "#spark.stop()"
   ]
  },
  {
   "cell_type": "markdown",
   "metadata": {},
   "source": [
    "Finally, use `docker compose down` to stop and clear all running containers."
   ]
  }
 ],
 "metadata": {
  "kernelspec": {
   "display_name": "Python 3 (ipykernel)",
   "language": "python",
   "name": "python3"
  },
  "language_info": {
   "codemirror_mode": {
    "name": "ipython",
    "version": 3
   },
   "file_extension": ".py",
   "mimetype": "text/x-python",
   "name": "python",
   "nbconvert_exporter": "python",
   "pygments_lexer": "ipython3",
   "version": "3.9.12"
  }
 },
 "nbformat": 4,
 "nbformat_minor": 4
}
